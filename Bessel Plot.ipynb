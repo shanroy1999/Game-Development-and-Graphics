import plotly as py
import plotly.graph_objs as go
import ipywidgets as widgets
import numpy as np
from scipy import special

x = np.linspace(0, np.pi, 1000)

layout = go.Layout(
    title = "Sine Function",
    yaxis = dict(
        title="Sin(x)"
    ),
    xaxis = dict(
        title = "Angle x(in Radians)"
    )
)

trace_1 = go.Scatter(
    x = x,
    y = np.sin(x),
    mode = "lines",
    name = "sin(x)",
    line=dict(
        shape="spline"
    )
)

fig = go.Figure(data=[trace_1], layout=layout)
fig.show()

import plotly.io as pio

def update_plot(signals, freq):

  data = []
  for s in signals:
    trace_1 = go.Scatter(
      x = x,
      y = special.jv(s, freq*x),
      mode = "lines",
      name = "Bessel {}".format(s),
      line=dict(
          shape="spline"
        )
    )
    data.append(trace_1)

  fig = go.Figure(data=data, layout=layout)
  fig.show()

signals = widgets.SelectMultiple(options=list(range(6)), value=(0, ), description="Bessel Order")
freq = widgets.FloatSlider(min=1, max=20, value=1, description="Freq")
widgets.interact(update_plot, signals=signals, freq=freq)
